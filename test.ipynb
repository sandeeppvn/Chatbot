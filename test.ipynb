{
 "cells": [
  {
   "cell_type": "markdown",
   "metadata": {},
   "source": [
    "# Chatbot based on internal data (PDFs)\n",
    "\n",
    "Steps:\n",
    "1. Reading the PDFs and WebPages\n",
    "2. Chunk the PDFs and Webpages\n",
    "3. Create vector embeddings from the PDFs and Webpages\n",
    "4. Add to Pinecode Vector DB\n",
    "5. Create a chatbot that queries from Pincone to implement RAG architecture"
   ]
  },
  {
   "cell_type": "markdown",
   "metadata": {},
   "source": [
    "### Import Libraries\n",
    "\n",
    "Load all the necessary modules and libraries. \n",
    "\n",
    "If not present, add them to requirements.txt and run python -m requirements.txt on the terminal"
   ]
  },
  {
   "cell_type": "code",
   "execution_count": 29,
   "metadata": {},
   "outputs": [],
   "source": [
    "import os\n",
    "import openai\n",
    "import langchain\n",
    "import pinecone\n",
    "from langchain.document_loaders import PyPDFDirectoryLoader, AsyncHtmlLoader\n",
    "from langchain_community.document_transformers import Html2TextTransformer\n",
    "from langchain.text_splitter import RecursiveCharacterTextSplitter\n",
    "from langchain.embeddings.openai import OpenAIEmbeddings\n",
    "from langchain.vectorstores import Pinecone\n",
    "from langchain.llms import OpenAI"
   ]
  },
  {
   "cell_type": "markdown",
   "metadata": {},
   "source": [
    "Load the necessary environment variables which will contain the API Key"
   ]
  },
  {
   "cell_type": "code",
   "execution_count": 5,
   "metadata": {},
   "outputs": [
    {
     "data": {
      "text/plain": [
       "True"
      ]
     },
     "execution_count": 5,
     "metadata": {},
     "output_type": "execute_result"
    }
   ],
   "source": [
    "from dotenv import load_dotenv\n",
    "load_dotenv()"
   ]
  },
  {
   "cell_type": "markdown",
   "metadata": {},
   "source": [
    "### Reading the PDF and Webpages\n",
    "\n",
    "Create a function that is used to read PDFs in a given folder using document loaders.\n",
    "\n",
    "https://python.langchain.com/docs/modules/data_connection/document_loaders/pdf"
   ]
  },
  {
   "cell_type": "code",
   "execution_count": 42,
   "metadata": {},
   "outputs": [],
   "source": [
    "def read_pdfs(folder):\n",
    "    file_loader = PyPDFDirectoryLoader(folder)\n",
    "    pdfs = file_loader.load()\n",
    "    return pdfs\n",
    "    "
   ]
  },
  {
   "cell_type": "code",
   "execution_count": 43,
   "metadata": {},
   "outputs": [
    {
     "name": "stdout",
     "output_type": "stream",
     "text": [
      "Number of pages: 23\n"
     ]
    },
    {
     "data": {
      "text/plain": [
       "[Document(page_content=\"Kakaraparti  Bhavanarayana  College  is truly a dream come true for many, \\nespecially for those who are residing in the old town of Vijayawada. The long \\ncherished dream has been realized through the benevolence of  Danaseela,  \\nPurapramukha  and  Vidya -Poshaka  Sri Kakaraparti  Bhavanarayana  \\nShresti.  The foundation stone of the college was laid on 6th November, 1964 \\nby Sri Kasu Brahmananda Reddy, the then Chief Minister of Andhra Pradesh. \\nThe college was constructed on 4.1 1 acres of land of the  S.K.P.V.V.  Hindu  \\nHigh  Schools’  Committee. It commenced functioning fully ever since July, \\n1965. The college had a humble beginning with 278 students and a devoted \\nstaff of just nineteen under the visionary leadership of the Founder P rincipal \\nSri S. Sundaram.  \\nThe infrastructure of the college is admirable. The college has a state of the \\nart library with a digital library and a spacious reading room. The college is \\nembellished with expansive playgrounds and a well -\\nequipped  Gymnasium.  The college is also endowed with an elegantly \\ndesigned open air theatre,  Kalanikethan  with an open gallery and a seating \\ncapacity of 2500, which is one of the spectacular features of the college. Our \\ncollege emblem symbolizes the noble ideals for which our i nstitution stands. \\nThe sunrays, the book and the illuminating lamp, all represent the divine \\nattributes which aim at dispelling darkness and spreading light. The \\nmotto  “Thejasvina  Vadhitamastu”  a part of our daily prayer, truly \\nexpresses our pious wish. “L et the Divine Deity help us to carry on our \\n“Adhyayana” that bestows luster on us both.  \\nEversince its inception in 1965,the College is known for its relentless striving \\ntowards transforming the student into an enlightened citizen. The college is \\never vibra nt and has evolved with the changing times. It has been adorned \\nwith Autonomy in the year 2010. As a college with state of art facilities and \\nthe accolades it received like the  Best  Laboratory , Best  Academic  \\nachievement , Best  Library , Best  NSS  Unit  speaks volumes about its steadfast \\nendeavour in trying to dispel ignorance from society by wielding the \\npotential weapon of education . \\n \\nThe untiring efforts of the college eventually reflected in getting  NAAC  \\n'A' grade in 2018; with  CPE  in 2016  and All India 9 2nd Rank in NIRF by \\nMHRD in 2017 which stands out to be the acme of academic achievement . \\nThe College is presently affiliated to Krishna Univeristy, Machilipatnam and it \\nis one of the very few megalithic and top notch structures providing \\nsuperlative educatio n in the entire district of Krishna. The accomplishments \\nof the college thus far have been by stimulating its appetite to reach \\nunexplored horizons, and the saga of blazing newer trails continue unabated.  \\n \\nVision  \\n• To re ach the state of perfection through an ardent academic desire for excellence.  \\n• To bestow sincere and dedicated efforts to the cause of education.  \", metadata={'source': 'data\\\\Kakaraparti Bhavanarayana College.pdf', 'page': 0}),\n",
       " Document(page_content=\"• To orient the student towards service through creative, constant, consistent \\ninvolvement in the society.  \\nMissio n \\n• To produce knowledgeable, responsible, skilled, cultured, confident and competent \\ncitizens of India with a desire to develop its progress and development. These students \\ncoming out of the portals of the institution shall have the abilities such as learni ng to \\nknow, learning to do, learning to live and learning to be a responsible citizen.  \\n \\n \\nCore  Values  \\nBuilt on the vision that education serves as a keystone in improving society and \\nbuilding better futures for all we commit to our core values of:  \\n• Excellence  \\n• Social Responsibility  \\n• Stewardship  \\n• Accountability  \\n• Community & Diversity  \\n• Integrity  \\n• Opportunity  \\n \\n \\nGoals  & Objectives  \\n \\nGoals  \\n• To impart higher education to all segments of the society  \\n• To make quality, the defining element of education  \\n• To impart value based education  \\n• To increase literacy level among women, leading to women empowerment  \\n• To enhance the spirit of Nationality, National integrity and to inculcate high moral values.  \\n• To guide the students in securing better employment and higher education opportunities \\nthrough career guidance and placement services.  \\n \\nObjectives  \\n• To offer undergraduate programmes in Science, Arts and Commerce and P.G. programmes in \\nScience, Commerce and Management.  \\n• To provide high quality and standard education.  \\n• To arrange guest lectures,seminars and to conduct Educational tours and to stimulate the \\nacademic environment of the institution.  \\n• To support the economically backward students and encourage different minoriti es’ students.  \\n• To organize social service and academic programmes with the faculty and students.  \\n• To guide the students in securing better employment and higher education opportunities \\nthrough career guidance and placement services.  \\n \\nPRINCIPAL  - Dr. V. NARAYANA  RAO,  M.Com.,Ph.D.,  \\nPrincipal's  Message  \\nGreetings!  \\nWelcome to KBN College Education maketh a country strong, great, and \\ndeveloped. KBN College, the citadel of learning recorded more than five and \", metadata={'source': 'data\\\\Kakaraparti Bhavanarayana College.pdf', 'page': 1}),\n",
       " Document(page_content='half decades of consistent progress. It is one of the pioneer institutes \\nrecognized for its par excellence enab ling the economically impoverished \\nand educationally backward communities around its surroundings. The \\nVibrance of its legacy has created the much sort after by the fresh applicants \\nyear after year. As a Principal of such an institution of higher learning and \\nreputation I welcome you all and assure a nurturing and caring environment \\nthat carves every individual to become empowered and responsible citizens. \\nOur expert teaching community in their respective fields have become part \\nand parcel to evolve a bench  mark standard on a continuous basis. They plan, \\nexecute, monitor and evaluate the growth of a student from time to time. Our \\nParent Community: As Swami Vivekananda said, \"Truth can be stated in a \\nthousand different ways, yet each one can be true\". We enco urage our Parent \\ncommunity not to compel their children, but to inspire them to reason and \\nrealize their aspirations. We strongly believe in the potential of our learner \\ncommunity. We inculcate our learner community to reflect, review and react \\nfrom what t hey learn. We ensure that they will not yield to the youthful \\nfantasies and falsies. We train them to be focused and learn to enjoy hard \\nwork. Our education system mould the students to think globally, act locally \\nand preserve our heritage and culture for posterity. The learner community \\nis constantly motivated in such a way that hard work and perseverance alone \\nleads to success. We the KBN community strongly believe that the true \\nhallmark of education is \"character, intellect and sound health\". With \\nexperi enced and dedicated teachers and excellent infrastructure, we stand by \\nour student community to achieve their goals. We encourage students to take \\nadvantage of the extracurricular activities extended by the college. Before I \\nconclude let me reveal the secr et behind our success. The strength behind \\nour success formula is the perfect coordination and collaboration between all \\nthe stake holders. We the KBN community constantly have been raising the \\nbar from time to time by engaging and involving all the stake holders in all \\nour pursuits. As such it has been a noteworthy feature that education in KBN \\ncollege will determine the future of many a young mind. Therefore, it is time \\nto seek that education, discover that truth and march towards Excellence.  \\n \\nS. No Name  Designation  \\n1 Sri S. Sundaram, M.A., LLB  PRINCIPAL  \\n2 Sri G.V.V. R. Ramanujam, M.Sc.  PRINCIPAL  \\n3 Sri C. Subrahmanyam, M.Com  PRINCIPAL - FAC  ', metadata={'source': 'data\\\\Kakaraparti Bhavanarayana College.pdf', 'page': 2}),\n",
       " Document(page_content='4 Dr. K. R. Satyanarayana, M.Com., Ph.D  PRINCIPAL – FAC  \\n \\n \\n5 Sri J. Yerreswara Rao, B.Sc. (Hons)  PRINCIPAL – FAC  \\n6 Sri G. Rama Subba Reddy, M.A  PRINCIPAL  \\n7 Sri T. Sarat Chandra Babu, M.Sc., M.Phil  PRINCIPAL - FAC  \\n8 Sri A. Gurunadha Rao, M.Sc.  PRINCIPAL - FAC  \\n9 Sri G. Narasimha Rao, M.Com.  PRINCIPAL  \\n10 Dr. S. Sasikala, M.Sc., Ph.D  PRINCIPAL -FAC  \\n11 Sri A.V.S. Prasada Rao, M.Com.  PRINCIPAL  \\n12 Smt. V. Subhashini, M.Sc., M.Phil  PRINCIPAL – FAC  \\n13 Dr. P. Krishna Murthy, M.Sc., M.Phil., Ph.D  PRINCIPAL  \\n14 Dr. V. Narayana Rao, M.Com., Ph.D  PRINCIPAL - FAC  \\n15 Sri.E.VaraPrasad, M.A.,M.Phil.,  PRINCIPAL - FAC  \\n16 Dr. V. Narayana Rao, M.Com., Ph.D  PRINCIPAL  \\n \\nRed Ribbon Club  \\nUnder National AIDS Control Programme (NACP), the Red Ribbon Club in the \\ninstitution was established in the year 2012. The club conducts the regular \\nactivities to encourage Voluntary Blood Donation and increase Awareness on \\nAIDS and its related issues. The  Students have satisfaction beyond any scale ', metadata={'source': 'data\\\\Kakaraparti Bhavanarayana College.pdf', 'page': 3}),\n",
       " Document(page_content='that they are able to serve the society. Patients suffering from chronic blood \\ndeficiency, accidents, undergoing critical surgery are provided with blood \\nthrough the KBN Help Line. Every year the people approach ing for blood are \\nable to get the benefit ‘free of cost’.  \\nCLICK HERE FOR MOR E \\nRED  RIBBON  CLU B \\nSri Sk. Ismaiel  Ali \\nBash a Head,  Dept.  of Botany,  Conveno r \\nSri N. Sambasiva  Rao Incharge,  HVPE,  Membe r \\nSri D. Pavan  Kuma r Asst.  Prof.,  Dept.  of Commerce  & Management,  \\nMembe r \\nMs. M. Sahith i Asst.  Prof.,  Dept.  of Zoology,  Membe r \\nMr. Sk. Moth i III B.Sc.  (CBZ),  Student  Membe r \\nMs. G. Dev i III B.Sc.  (CBZ),  Student  Membe r \\nMr. P. Harshavardhan  \\nSrira m II B.Sc.  (CBZ),  Student  Membe r \\n  \\nKBN  HELP  LINE  - DONATE  BLOOD  AND  SAVE  HUMAN  LIFE KBN College is situated in an \\nurban locality surrounded by a number of villages which are largely inhabited by SC, ST, OBC \\nand socially and economically backward communities. They face great difficulty while  \\narranging blood at the time of emergency. In collaboration with the Rotary Red Cross Blood \\nBank, Vijayasri Blood Bank, Government General Hospital Blood Bank and Capital Blood Bank, \\nthe College organises blood donation camps under the aegis of NSS, NCC an d Red Ribbon Club. \\n‘Donate Blood - Save Life’ is the motto used to encourage volunteers to donate blood. This \\nprocess enabled us to connect with the Red Cross Blood Bank and other Blood banks in \\nVijayawada and work in unison with them . \\nCLICK HERE FOR MOR E \\nNumber  of Blood  Donation  Camps  held : \\nDate  No. of Participants  No. of Units  Blood  Collected  In Collaboration  with  \\n06/11/2023  103  103  NTR District Medical and Health Department  \\n24/09/2023  68 68 NTR District Medical and Health Department  \\n05/11/2022  100  95 Indian Red Cross Society  \\n15/08/2022  100  100  Indian Red Cross Society  \\n04/05/2022  250  250  Indian Red Cross Society  ', metadata={'source': 'data\\\\Kakaraparti Bhavanarayana College.pdf', 'page': 4}),\n",
       " Document(page_content='06/11/2021  100  77 Indian Red Cross Society  \\n21/10/2021  52 52 Indian Red Cross Society  \\n23/03/2021  96 96 Indian Red Cross Society  \\n27/11/2019  800  500  Indian Red Cross Society  \\n06/11/2019  348  313  Rotary Red Cross Blood Bank  \\n03/08/2019  58 52 Indian Red Cross Society  \\n4/10/2018  115  102  Red Cross Blood Bank  \\n6/11/2018  84 70 Rotary Red Cross Blood Bank  \\n19/01/2018  77 62 Vasavi Club  \\n06/11/2017  103  90 Rotary Red Cross Blood Bank  \\n18/7/2017  68 60 Rotary Red Cross Blood Bank  \\n15/03/2017  47 33 Capital Blood Bank  \\n \\nConsumer Club  \\n \\nYear  of Establishment: 22.03.2017  \\n \\nImportance / Purpose of the Club:  \\n• protecting consumers interests, creating a pro -active consumer protection regime in \\nthe society.  \\n• Involving students in the activities like sensitisation and Awareness Programmes, \\nPoster Presentations, Seminars, Projects, Workshops, Exhibitions, Debates and Rallies \\non Consumer Rights.  \\n• Display posters on Consumer Rights in the college premises to promote awarness in \\nthe college.  \\n• Invite Guest Lectures by subject experts.  \\n• Include the Consumer Protection Act, 1986 as a subject in UG/PG courses.  \\n• Guide and Assist the students and the society in filing the grievances at local Consumer \\nForum.  \\n \\nEVENTS  \\n ', metadata={'source': 'data\\\\Kakaraparti Bhavanarayana College.pdf', 'page': 5}),\n",
       " Document(page_content='KBN  COLLEGE  CONSUMER  CLUB  \\nSri Vijayababu  Tekkem  Asst.  Prof.,  Dept.  of Commerce  & Management,  \\nConvenor  \\nSri Ch. Ravindranath  Asst.  Prof.,  Dept.  of Commerce  & Management,  \\nMember  \\nSri D. Pavan  Kumar  Asst.  Prof.,  Dept.  of Commerce  & Management,  \\nMember  \\nDr. B. Arun  Kumar  Asst.  Prof.,  Dept.  of MBA,  Member  \\nMr. G. Purna  Chandra  \\nRaju  II MBA,  Student  Member  \\nMr. M. Eswar  III BBA,  Student  Member  \\n \\n \\nNational Cadet Corps(NCC)  \\n \\nYear of Establishment:  \\n1965  \\n \\nOur Motto:  \\n• Unity and Discipline  \\nAim :  \\n• Developing character, camaraderie, discipline, secular outlook, the spirit of adventure and the \\nideals of self less service amongst the young citizens  \\n• Creating a pool of organised, trained and motivated youth with leadership qualities in all walks \\nof life, who will serve the nation regardless of which career they choose  \\n• Provide an environment condusive to motivate young Indians to choose the Armed Forces as a \\ncareer  \\nVision:  \\n• Empower volunteer youth to become potential leaders and responsible citizens of the country  \\nMission:  \\n• To develop leadership and character qualities, mould discipline and nurture social integration  \\nand cohesion through multi -faced programmes conducted in a military environment  \\nWhy join the NCC?:  \\n• NCC stands for the National Cadets Corps which is the Indian military cadet \\ncorps.  Initially  NCC  was  started  in 15th  July,  1948  to rise the youth  of India  in several  fields  to \\nsupport  Indian  defense  forces  during  the war  period . \\n• To get basic education of military training, this helps them in finding out whether they are \\nsuitable to pursue nation’s sec urity as their career in the future.  \\n• To take the leadership role at the very young age.  \\n• To participate in activities like social service, community development, Sports, Cultural events \\netc. for their all -round development.  \\n• To imbibe intangible qualities li ke brotherhood, leadership, honesty, integrity, communication \\nskills, decision making capabilities and time management.  ', metadata={'source': 'data\\\\Kakaraparti Bhavanarayana College.pdf', 'page': 6}),\n",
       " Document(page_content=\"• Being part   of  NCC   one  gets   chance   to  attend   various   camps   like  DC, CATC, NIC, TSC, \\nBLC,   ALC,TREK,YEP etc. which prepare the cadets to face challenges in life.  \\n• NCC prepares you for life - not just to take up career in Armed forces, but let it be any field you \\ngo. \\n• One can definitely see great change in once attitude once you complete your NCC training.  \\n• NCC definitely adds value t o your CV wherever you go.  \\nHOW TO ENROLL THE NCC?  \\n• Enrolment in the National Cadet Corps in on voluntary basis. Students can join at a minimum \\nage of 16+ years in the Senior Division (SD) for boys.  \\n• Similarly, enrolment in the senior division (SD) for boys i n intermediate & degree. A cadet can \\nnormally stay in the SD for four years.  \\n• Environment coincides with the beginning of the academic session (Jun/Jul) in schools & \\ncolleges. To get oneself enrolled in the NCC, a student should be physically fit and within  the \\nprescribed age limit. The final selection is, however, done by the Commanding Officer of the \\nconcerned NCC unit  \\nImportance:  \\n• NCC is a highly reputable body and considered to be the second line of defence. In India, many \\nyoungsters are trained in line w ith defence mechanisam, in case the need arises. If young \\nstudents want to make as their career option, then being a NCC cadet holds a lot of weight.  \\n• apart from military training the cadets also learn several other core values such as \\nselflessness,honesty, discipline,hard work,building confidence and aquire leadership qualities.  \\n• Since NCC camps are held all over India, the cadets are trained in a various parts of the country \\nas such students get an opportunity to visit new places and learn the art of indepen dence. They \\nare required to exhibit their social skills and their senses to get to know about new places and \\nadapt themselves to the varying environment.They are also exposed to the historical \\nsignificance,the cultural diversity and the artistic outlook of  the new places.  \\n• The NCC teaches 'ekta' and 'anushasan' as core values. One needs to rely on these values no \\nmatter where one has to go in life. Besides, there is no better platform to learn to be a leader at \\na prime age being physically fit at the same ti me. \\n• The NCC teaches hands on experience of how to be with people,irrespective of age and place \\nthrough camps at various parts of the country therefore takes the cadets out of comfort \\nzone,through self -reliance.  \\n• It gives a first hand experience what it is like to be in the Indian armed forces, air or naval \\nforces depending upon the batallion.  \\n• NCC cadets learn to take pride in themselves.The training empowers the cadets to develop the \\ntrue spirit of being an Indian . This helps them gear towards joining the forces and offering \\ntheir total selves when the country is in need.  \\n• The cadets are taught parachuting, paragliding and basic aviation courses which enables them \\nto have an edge over others when appearing for armed  force interviews.Besides they have a \\nspecial quota which is very useful in case of final selection to join the armed forces.  \\n• Under the regime of exchange programme, there are a few selected students who get an \\nopportunity to visit other countries and lear n various things which are practised in other \\nnations and exchange experiences with cadets who happen to come to India from foreign \\nlands.  \\nGuidelines:  \\nAs Regular  officers  in Indian  Army  - 25 vacancies reserved for NCC 'C' \\nCertificate holders for every cour ce, ie... 50 seats each year irrepective of \\nmerit in SSB.  \\nAs Short  Service  Commissioned  Officers  in the Indian  Army  - NCC 'C' \\nCertificate holders are exempted from appearing in written Examination \\n(UPSC exam). 50 vacancies are reserved in each course ie...  100 seats for each \\nyear.  \\nAs Regular  Officers  in Indian  Navy  - Six vacancies are reserved in each \\ncourse ie... 12 seats per year for NCC 'C' Certificate(Naval Wing) holders. \\nThey must have passed BSc(Physics and Maths) or BE, are 19 to 24 years of \", metadata={'source': 'data\\\\Kakaraparti Bhavanarayana College.pdf', 'page': 7}),\n",
       " Document(page_content=\"age and are deemed fit to undergo training in Naval Academy, Goa by the \\nServices Selection Board (SSB). Such candidates are exempted from \\nappearing in the CDS Examination conducted by UPSC.  \\nAs Regular  Officers  in Indian  Air Forc  - 10% of all available seats are \\nreserved for NCC 'C' Certificate (Air Wing) holders including Pilot courses. \\nThey need NOT appear for UPSC Exam.  \\nThe certificates you earn as a JD (Junior Division) and SD (Senior Division) \\nCadet in school and college prove to be a massive help whilst gettin g into the \\nNDA as well as into government related jobs  \\nCertificates are only good if you know to express what you have learnt while \\nearning them. And trust me, in life you'll never fall short of words while \\nspeaking of the values and experiences you will h ave gained from joining the \\nNCC; be it among friends or at an interview  \\nDetails  of the Convener:  \\nName  of the Convener  Captain KPT Vijaya Bhaskar, ANO  \\nDepartment  Department of Chemistry  \\nDesignation  Asst. Professor.  \\nPhone  7330958063  \\nList of Members in the Cell:  \\nNCC  COMMITTE E \\nCaptain  KPT  Vijaya  \\nBhaska r Asst.  Prof.,  Dept.  of Chemistry,  Conveno r \\nSri Ch. Naga  \\nBhushana m Head,  Dept.  of Physics,  Membe r \\nSri D. Hema  Chandra  \\nRao Physical  Director,  Membe r \\nSmt.  K. Swath i Asst.  Prof.,  Dept.  of Chemistry,  Membe r \\nMs. G. Harik a III BCA,  Student  Membe r \\nMs. K. Ramyasr i II B.Com.  (Comp),  Student  Membe r \\nMr. A. Anil  Kuma r II B.Com.  (Gen),  Student  Membe r \\nMr. Pothuraju  Naga  \\nVeera  Bab u II B.Com.  (Comp),  Student  Membe r \\nMr. Ch. Sriniva s II B.Com.  (Comp),  Student  Membe r \\n \", metadata={'source': 'data\\\\Kakaraparti Bhavanarayana College.pdf', 'page': 8}),\n",
       " Document(page_content=\" \\nNational Service Scheme  \\n \\nYear of Establishment: 1969  \\nNational Service Scheme, under the Ministry of Youth Affairs & Sports Govt. \\nof India , popularly known as NSS was launched in the Honourable Mahatma \\nGandhi's Birth Centenary Year 1969, in 37 Universities involving 40,000 \\nstudents with primary focus on the development of personality of students \\nthrough community service. Today, NSS has more  than 3.2 million student \\nvolunteers on its roll spread over 298 Universities and 42 (+2) Senior \\nSecondary Councils and Directorate of Vocational Education all over the \\ncountry. From its inception, more than 3.75 crores students from \\nUniversities, Colleges  and Institutions of higher learning have benefited from \\nthe NSS activities, as student volunteers . \\nNational Service Scheme provides the students an opportunity to understand \\nthe community; identify its needs and problems as well as the solutions in \\nwhich they can be involved by assuming social and civic responsibilities. NSS \\nalso provides students with the opportunity to apply their education in \\nfinding practical solutions to the problems faced by the individuals and the \\ncommunity at large. NSS aims at aro using social consciousness of the youth \\nwith an overall objective of personality development through community \\nservice. NSS enables students to participate in various programmes of social \\nservice and national development, and to help the community.  \\nMOR E \\nEVENT S \\nNSS  COMMITTE E \\nSri V. Seshagiri  Rao Asst.  Prof.,  Dept.  of Commerce,  Program  Officer  \\nUnit–I Conveno r \\nSri D. Pavan  Kuma r Asst.  Prof.,  Dept.  of Commerce,  Program  Officer  \\nUnit  – II Conveno r \\nSri N. Sambasiva  Rao Incharge,  HVPE,  Program  Officer  Unit  – III \\nConveno r \\nDr. N. Venkateswara  \\nRao Asst.  Prof.,  Dept.  of Commerce,  Membe r \\nMs. P. Kalma  Begu m Head,  Dept.  of Mathematics,  Membe r \\nMr. N. Praveen  Sai I MBA,  Student  Membe r \", metadata={'source': 'data\\\\Kakaraparti Bhavanarayana College.pdf', 'page': 9}),\n",
       " Document(page_content=\"Mr. S. Surya  Prakas h I MCA,  Student  Membe r \\nMs. S. Devi  Sri II B.Com.  (Gen),  Student  Membe r \\nMr. Mohammad  Galib  \\nShahi d II B.Com.  (Gen),  Student  Membe r \\nMr. R. Akas h III BBA,  Student  Membe r \\nMs. G. Likhith a II B.Com.  (Log),  Student  Membe r \\n \\nPLACEMENT & GUIDANCE CELL  \\nThe Placement & Guidance cell of KBN College strives to train every student \\nfor enriching them with communication skills, reasoning and mathematical \\nskills to face competition and to conduct placement drives and to provide \\ntheir dream career and build their bright future.  It helps each student in \\nexploring placement opportunities by inviting various companies for campus \\nrecruitment of students who are in the final year of the programme and are \\nlikely to graduate at the end of the academic year.  \\nThe Placement Cell organizes career guidance programmes for all the \\nstudents starting from first year. The cell arranges training programmes like \\nMock Interviews, Group Discussions, Communication Skills Workshop etc., . \\nIt also invites HR Managers from dif ferent industries to conduct training \\nprogrammes for final year students.  \\n \\n \\nOBJECTIVES  \\n• To enhance the employability of students by providing them with the necessary skills, \\nknowledge, and resources to excel in the job market.  \\n• To offer career counseling an d guidance to help students make informed decisions about their \\ncareer paths, based on their interests, skills, and aspirations.  \\n• To facilitate job placements for graduating students by connecting them with potential \\nemployers and assisting them in securing  suitable job opportunities.  \\n• To Establish and maintain partnerships with companies, organizations, and industries to \\nfacilitate on -campus recruitment, internships, and industry visits.  \\n• To organize placement drives and recruitment events on campus, where co mpanies conduct \\ninterviews and make job offers to eligible students.  \\n      \\nSERVICES  \\n• Organize skill development workshops and training sessions to improve students' soft skills, \\nincluding communication, teamwork, leadership, and problem -solving abilities.  \\n• Maintain a database of job openings, internship opportunities, and placement -related \\ninformation to connect students with relevant career options.  \\n• Collect feedback from both students and employers to continuously assess and improve the \\neffectiveness of the placement process and services offered.  \\n• Assist students in finding and applying for internships  \\n• Help students create professional resumes that effectively showcase their qualifications and \\nexperiences to potential employers.  \", metadata={'source': 'data\\\\Kakaraparti Bhavanarayana College.pdf', 'page': 10}),\n",
       " Document(page_content='• Conduct mock interviews, worksh ops, and training sessions to prepare students for job \\ninterviews.  \\n• Maintain accurate records and data related to placements, internships, and career \\ndevelopment activities to provide valuable insights for future planning and improvements.  \\n      \\nACTIVITIES  \\n• HDFC  LIFE  - GRADUATE  TRAINING  PROGRAM  ROAD  SHOW  on 30th  May  2023  \\n• HCL  - STATE  STREET  ORIENTATION  PROGRAM  FOR  SELECTED  STUDENTS  on 23rd  March,  \\n2023  \\n• CAMPUS  RECRUITMENT  TRAINING  CLASSES  (CRT)  by ANDHRA  PRADESH  STATE  SKILL  \\nDEV ELOPMENT  CORPORATION  (APSSDC)  on 09th  December,  2022  \\n• ASK  THE  EXPERTS  by LAKME  INDIA  on 24th  November,  2022  \\n• JOB  MELA  by ANDHRA  PRADESH  STATE  SKILL  DEVELOPMENT  CORPORATION  (APSSDC)  on \\n18th  November,  2022  \\n• CONNECT  WITH  WORK  TRAINING  CERTIFICATES  DISTRIBUTION  By MAGIC  BUS  INDIA  \\nFOUNDATION  on 07th  October,  2022  \\n• COMMUNICATION  & BODY  LANGUAGE  SKILLS  By GILLETTE  INDIA  PVT  LTD  on 08th  \\nSeptember,  2022  \\n• COMMUNICATION  TRAINING  by MAGIC  BUS  INDIA  FOUNDATION  on 9th to 14th  July 2022  \\n• IMPORTANCE  OF INTERNSHIPS  by PENTAGON  SPACE,  BANGALORE  24th  August  2022  \\n• RESUME  WRITING  SESSION  by AVUNATHYA  SOLUTIONS  on 18th  November  2021  \\n• MOCK  INTERVIEWS  By TEAM  LEASE  RECRUITMENT  TEAM  on 9th and 11th  November  2021  \\n• THREE  DAY  WORKSHOP  on \"CONNECT  WITH  WORK  (COMMUNICATION  & \\nEMPLOYABILITY  SKILLS  TRAINING  PROG RAM)  \" On 5th to 7th April,2021  \\n• AWARENESS  on \"INDIAN  AIR  FORCE  RECRUITMENT\"  on 13th  February,  2020  \\n• JOB  MELA  on 23rd  March,  2018  \\n• MOCK  INTERVIEW  on 23rd  & 24th  August,  2017  \\n• APTITUDE  CLASSES  on 17th  & 18th  August,  2017  \\n• GUEST  LECT URE  on \"JOB  OPPORTUNITIES  IN GOVERNMENT  SECTORS\"  on 20th  February,  \\n2017  \\n \\n \\nNational Assessment and Accreditation \\nCouncil (NAAC)  \\nOur college has consistently strived for academic excellence and achieved \\nremarkable success in the NAAC accreditation process. In  the first \\naccreditation cycle spanning from 2007 to 2012, we were awarded Grade \\n\\'B++\\' with 81.50 Grade Points. Moving forward, during the second \\naccreditation cycle for the years 2013 to 2018, we earned an \\'A\\' grade with a \\nCGPA of 3.15 on a 4 -point scale.  \\nIn the subsequent third accreditation cycle for the years 2018 to 2023, we \\ncontinued our commitment to excellence and were honored with an \\'A\\' \\ngrade, obtaining a CGPA of 3.11. Our consistent efforts and dedication to \\nacademic achievements have been recogn ized throughout these \\naccreditation cycles.  \\n \\nCONTACT US  \\nKAKARAPARTI BHAVANARAYANA COLLEGE(Autonomous)  \\n(Sponsored by S.K.P.V.V.Hindu High Schools Committee)  \\n(Affiliated to Krishna University, Machilipatnam)  \\nKothapeta, Vijayawada -520 001.  \\nKrishna District, Andhra Pradesh, India.  \\nMail us at: info@kbncollege.ac.in, info@kbncollege.info  ', metadata={'source': 'data\\\\Kakaraparti Bhavanarayana College.pdf', 'page': 11}),\n",
       " Document(page_content='Phone Numbers:0866 -2565679,6699233,6699236  \\nWebsite :www.kbncollege.ac.in  \\n ', metadata={'source': 'data\\\\Kakaraparti Bhavanarayana College.pdf', 'page': 12}),\n",
       " Document(page_content='Sample PDF Document\\nRobertMaron\\nGrzegorz Grudzi ´nski\\nFebruary20, 1999', metadata={'source': 'data\\\\sample1.pdf', 'page': 0}),\n",
       " Document(page_content='2', metadata={'source': 'data\\\\sample1.pdf', 'page': 1}),\n",
       " Document(page_content='Contents\\n1 Template 5\\n1.1 How tocompilea .texﬁleto a.pdfﬁle. . . . . . . . . . . . . 5\\n1.1.1 Tools . . . . . . . . . . . . . . . . . . . . . . . . . . . . 5\\n1.1.2 How to usethetools . . . . . . . . . . . . . . . . . . . . 5\\n1.2 How towritea document . . . . . . . . . . . . . . . . . . . . . . 6\\n1.2.1 Themaindocument . . . . . . . . . . . . . . . . . . . . . 6\\n1.2.2 Chapters . . . . . . . . . . . . . . . . . . . . . . . . . . 6\\n1.2.3 Spell-checking . . . . . . . . . . . . . . . . . . . . . . . 6\\n1.3 L ATEXand pdfL ATEXcapabilities . . . . . . . . . . . . . . . . . . . 7\\n1.3.1 Overview . . . . . . . . . . . . . . . . . . . . . . . . . . 7\\n1.3.2 L ATEX. . . . . . . . . . . . . . . . . . . . . . . . . . . . 7\\n1.3.3 pdfL ATEX. . . . . . . . . . . . . . . . . . . . . . . . . . 7\\n1.3.4 Examples . . . . . . . . . . . . . . . . . . . . . . . . . . 7\\n3', metadata={'source': 'data\\\\sample1.pdf', 'page': 2}),\n",
       " Document(page_content='4 CONTENTS', metadata={'source': 'data\\\\sample1.pdf', 'page': 3}),\n",
       " Document(page_content='Chapter 1\\nTemplate\\n1.1 How to compilea .texﬁleto a.pdfﬁle\\n1.1.1 Tools\\nTo processthe ﬁlesyou(may)need:\\n•pdflatex (for example fromtetexpackage≥0.9-6, which you can\\ngetfromRed Hat5.2 );\\n•acroread (a PDFviewer,availablefrom http://www.adobe.com/ );\\n•ghostscript≥5.10(forexamplefrom RedHatContrib )andghostview\\norgv(fromRedHatLinux);\\n•efaxpackagecouldbe useful,ifyou plantofax documents.\\n1.1.2 How touse the tools\\nFollow thesesteps:\\n1.putallsource.texﬁlesinonedirectory,thenchdirtothedirectory(orput\\nsomeofthemin theL ATEXsearchpath—if youknowhowto dothis);\\n2.run“pdflatexfile.tex ”onthemainﬁleofthedocumentthreetimes\\n(three—to preparevalidtable ofcontents);\\n3.to see or print the result use acroread (unfortunately some versions of\\nacroread mayproducePostScriptwhichistoo complex),or\\n5', metadata={'source': 'data\\\\sample1.pdf', 'page': 4}),\n",
       " Document(page_content='6 CHAPTER1. TEMPLATE\\n4.runghostscript : “gvfile.pdf ” todisplayor:\\n“gs -dNOPAUSE -sDEVICE=pswrite -q -dBATCH -sOutputFile=ﬁle.ps ﬁle.pdf”\\nto produce a PostScriptﬁle;\\n5.run“fax send phone-numberfile.ps ”asroottosendafax,or—ifyou\\nknowhowtodothis—modifythe faxscripttobeabletofax .pdfﬁlesdirectly\\n(you have to insert“|%PDF*” somewhere...).\\n1.2 How towrite adocument\\n1.2.1 Themain document\\nChoose the name of the document, say document . Copytemplate.tex to\\ndocument.tex , then edit it, change the title, the authors and set proper in-\\nclude(s)for allthechapters.\\n1.2.2 Chapters\\nEachchaptershouldbeincludedinthemaindocumentasaseparateﬁle. Youcan\\nchoose any name for the ﬁle, but we suggest adding a sufﬁx to the name of the\\nmainﬁle. Forour examplewe usetheﬁle name document_chapter1.tex .\\nFirst, copytemplate_chapter.tex todocument_chapter1.tex\\nandaddthe line\\n\\\\include{document_chapter1}\\ninthedocument.tex ,theneditdocument_chapter1.tex ,changethe\\nchaptertitleand editthebody ofthechapterappropriately.\\n1.2.3 Spell-checking\\nDouse aspell-checker, please!\\nYou may also want to check grammar, style and so on. Actually you should\\ndoit (ifyou have enoughsparetime). But you mustcheckspelling!\\nYou can use theispell package for this, from within emacs, or from the\\ncommandline:\\nispell-tdocument_chapter1.tex', metadata={'source': 'data\\\\sample1.pdf', 'page': 5}),\n",
       " Document(page_content='1.3. LATEX ANDPDFL ATEXCAPABILITIES 7\\n1.3 LATEX andpdfLATEX capabilities\\n1.3.1 Overview\\nFirst you edit your source .texﬁle. In L ATEX you compile it using the latex\\ncommand to a.dviﬁle (which stands for device-independent). The .dviﬁle\\ncan be converted to any device-dependent format you like using an appropriate\\ndriver, forexampledvips.\\nWhen producing.pdfﬁles you should usepdflatex , which produces di-\\nrectly.pdfﬁles out of.texsources. Note that in the .texﬁle you may need\\nto usesomePDFspeciﬁcpackages.\\nFor viewing.texﬁles use your favourite text editor, for viewing .dviﬁles\\nunder X Window System use xdvicommand,.psﬁles can be viewed with gv\\n(orghostview ) and.pdfﬁleswithacroread ,gvorxpdf.\\n1.3.2 LATEX\\nA lotof examplescanbe foundinthis document.\\nYoushouldalsoprint\\n•doc/latex/general/latex2e.dvi and\\n•doc/latex/general/lshort2e.dvi\\nfromyourtetexdistribution(usuallyin\\n•/usr/share/texmf or\\n•/usr/lib/texmf/texmf ).\\n1.3.3 pdfLATEX\\nConsultdoc/pdftex/manual.pdf from yourtetexdistribution for more\\ndetails. Veryusefulinformationscanbefoundinthe hyperref andgraphics\\npackagemanuals:\\n•doc/latex/hyperref/manual.pdf and\\n•doc/latex/graphics/grfguide.dvi .\\n1.3.4 Examples\\nReferences\\nMIMUW', metadata={'source': 'data\\\\sample1.pdf', 'page': 6}),\n",
       " Document(page_content='8 CHAPTER1. TEMPLATE\\nHyperlinks\\nThisisa target.\\nAndthisis alink.\\nDashes,etc.\\nTherearethreekindsof horizontaldash:\\n•- (useinsidewords;forexample“home-page”,“X-rated”)\\n•– (usethisonebetweennumbers;for example“pages2–22”)\\n•— (usethisoneas a sentenceseparator— like here)\\nNationalcharacters\\n•ó, é,í, ...\\n•è, à,ì, ...\\n•ô, ê,...\\n•õ, ñ,...\\n•ö, ë,...\\n•˙ z\\n•˛ a, ˛ e\\n•ł, ø,ß\\nThere are other ways to do this, see the documentation for inputenc pack-\\nage.\\nReserved characters\\nSome characters have some special meaning, thus cannot be entered in the usual\\nway.\\n•$ &% # _{ }\\n•\\\\\\n•˜ ˆ', metadata={'source': 'data\\\\sample1.pdf', 'page': 7}),\n",
       " Document(page_content='1.3. LATEX ANDPDFL ATEXCAPABILITIES 9\\nMath\\n•12,12n, ...\\n•i1,i2n, ...\\n•1\\n2,2n\\n2−3,...\\n•α,β,γ,Ω, ...\\n•→,⇒,≥,̸=,∈,⋆, ...\\n•√\\n2, ...\\n•2 + 2, ...\\nFormoreexamplesandsymbolsseechapter3of lshort2e.dvi .\\nFonts\\n•Roman\\n•Emphasis\\n•Mediumweight—the default\\n•Boldface\\n•Upright\\n•Slanted\\n•Sansserif\\n•SMALL CAPS\\n•Typewriter\\n•andsizes:\\n–tiny\\n–scriptsize\\n–footnotesize\\n–small\\n–normalsize', metadata={'source': 'data\\\\sample1.pdf', 'page': 8}),\n",
       " Document(page_content='10 CHAPTER1. TEMPLATE\\n–large\\n–Large\\n–LARGE\\n–huge\\n–Huge', metadata={'source': 'data\\\\sample1.pdf', 'page': 9})]"
      ]
     },
     "execution_count": 43,
     "metadata": {},
     "output_type": "execute_result"
    }
   ],
   "source": [
    "pdfs = read_pdfs('data')\n",
    "print(\"Number of pages:\",len(pdfs))\n",
    "pdfs"
   ]
  },
  {
   "cell_type": "code",
   "execution_count": 44,
   "metadata": {},
   "outputs": [],
   "source": [
    "def read_webpage(url):\n",
    "    html_loader = AsyncHtmlLoader(url)\n",
    "    html = html_loader.load()\n",
    "    html_transformer = Html2TextTransformer()\n",
    "    docs_transformed = html_transformer.transform_documents(html) \n",
    "    return docs_transformed"
   ]
  },
  {
   "cell_type": "code",
   "execution_count": 39,
   "metadata": {},
   "outputs": [
    {
     "name": "stderr",
     "output_type": "stream",
     "text": [
      "Fetching pages:   0%|          | 0/1 [00:00<?, ?it/s]"
     ]
    },
    {
     "name": "stderr",
     "output_type": "stream",
     "text": [
      "Fetching pages: 100%|##########| 1/1 [00:00<00:00,  3.68it/s]\n"
     ]
    },
    {
     "name": "stdout",
     "output_type": "stream",
     "text": [
      "Number of pages: 1\n"
     ]
    },
    {
     "data": {
      "text/plain": [
       "[Document(page_content=\"Skip to main content  Skip to navigation\\n\\n<\\n\\n>\\n\\nMenu\\n\\n## ESPN\\n\\n  *   *   * scores\\n\\n  * NFL\\n  * NBA\\n  * NCAAM\\n  * NCAAW\\n  * MLB\\n  * NHL\\n  * …\\n\\n    * Soccer\\n    * NCAAF\\n    * Sports Betting\\n    * Boxing\\n    * CFL\\n    * NCAA\\n    * Cricket\\n    * F1\\n    * Golf\\n    * Horse\\n    * LLWS\\n    * MMA\\n    * NASCAR\\n    * NBA G League\\n    * Olympic Sports\\n    * PLL\\n    * Professional Wrestling\\n    * Racing\\n    * RN BB\\n    * RN FB\\n    * Rugby\\n    * Tennis\\n    * WNBA\\n    * X Games\\n    * UFL\\n\\n  * More ESPN\\n  * Fantasy\\n  * Watch\\n  * ESPN BET\\n  * ESPN+\\n\\n##\\n\\n  * Subscribe Now\\n  * NHL\\n\\n  * German Cup: Semifinals\\n\\n  * NCAA Baseball\\n\\n  * NCAA Softball\\n\\n  * MLB\\n\\n  * NCAA Women's Gymnastics: First Round\\n\\n  * Field Yates' Two-Round NFL Mock Draft\\n\\n  * UFC 300: Pereira vs. Hill (Apr. 13, ESPN+ PPV)\\n\\n## Quick Links\\n\\n  * Men's Tournament Challenge\\n\\n  * Women's Tournament Challenge\\n\\n  * Men's TC 2nd Chance\\n\\n  * Women's TC 2nd Chance\\n\\n  * NFL Free Agency\\n\\n  * NFL Draft\\n\\n  * ESPN Radio: Listen Live\\n\\n  * How To Watch NHL Games\\n\\n  * Watch PGA Tour on ESPN\\n\\n## Favorites\\n\\nManage Favorites\\n\\n## Customize ESPN\\n\\nSign UpLog In\\n\\n## ESPN Sites\\n\\n  * ESPN Deportes\\n\\n  * Andscape\\n\\n  * espnW\\n\\n  * ESPNFC\\n\\n  * X Games\\n\\n  * SEC Network\\n\\n## ESPN Apps\\n\\n  * ESPN\\n\\n  * ESPN Fantasy\\n\\n  * Tournament Challenge\\n\\n## Follow ESPN\\n\\n  * Facebook\\n\\n  * X/Twitter\\n\\n  * Instagram\\n\\n  * Snapchat\\n\\n  * TikTok\\n\\n  * YouTube\\n\\n## TOP HEADLINES\\n\\n  * Voters reject stadium tax for Royals and Chiefs\\n  * NCAA: Women's tourney may see changes in 2025\\n  * Athletics talk offer with Oakland; Sacramento next\\n  * FAU star Davis enters transfer portal, eyes draft\\n  * Enfield: Wouldn't be SMU's coach if not in ACC\\n\\n  * Police question Spain's ex-soccer federation prez\\n  * Embiid returns, says injury 'took a toll mentally'\\n  * Harper authors 'great night,' hits 3 HRs as Phils win\\n  * Top NFL draft needs for all 32 teams\\n\\n## BRONNY ON THE MOVE?\\n\\n## LeBron ready to support Bronny if he enters the transfer portal\\n\\n10h\\n\\n0:16\\n\\n## EMBIID TRIUMPHANT IN RETURN\\n\\n## What Joel Embiid's return means for the 76ers, the playoff race and East\\nrivals\\n\\nHere's what a healthy Embiid changes about the East's race to the postseason.\\n\\n6hTim Bontemps and Kevin Pelton\\n\\n## NBA SCOREBOARD\\n\\n### TUESDAY'S GAMES\\n\\nSee All\\n\\n  * Play-in tournament: Projections, standings, schedule\\n\\n## NFL DRAFT\\n\\n### APRIL 25-27 ON ESPN NETWORKS\\n\\n## Yates' new two-round NFL mock draft: Let's project 64 picks and four teams\\ntrading up the board\\n\\nSix QBs? Fourteen receivers? FOUR trades? Field Yates projects landing spots\\nin Rounds 1-2 of this year's draft.\\n\\n2hField Yates\\n\\nESPN Illustration\\n\\n## Yates: Caleb Williams to the Bears is a formality\\n\\n4m\\n\\n0:58\\n\\n  * Top draft needs for all 32 teams\\n\\n  * Draft order: All 257 picks over seven rounds\\n\\nFull NFL draft coverage\\n\\n## AROUND THE DIAMOND\\n\\n## MLB Watchability Index: Which teams are the most fun to watch this season?\\n\\nStar power! 4- and 5-star catches! Youth! 425+ foot home runs! Here are the\\nteams you should be paying attention to this season.\\n\\n1hDavid Schoenfield\\n\\nBrian Cassella/Chicago Tribune\\n\\n## Hello ... 2026?! When your team will win the World Series\\n\\nOnly one team will win a ring this year. Who has the edge? And what about in\\n2025, 2026, 2027 ...?\\n\\n1dBradford Doolittle\\n\\n## MLB SCOREBOARD\\n\\n### TUESDAY'S GAMES\\n\\nSee All\\n\\n## ALL THINGS WWE\\n\\n## 'I didn't know what hit me': Inside Roman Reigns' playing days at Georgia\\nTech\\n\\nBefore he was wreaking havoc at WrestleMania, Reigns was an all-ACC defensive\\ntackle for the Ramblin' Wreck.\\n\\n2hHarry Lyles Jr.\\n\\nESPN\\n\\n## When the fans revolt: How WWE adjusts when storylines go wrong\\n\\nThe Rock's return and the road to WrestleMania 40 has been great, but it\\nwasn't the way it was originally planned.\\n\\n3dMarc Raimondi and Mike Coppinger\\n\\n## WHO IS THE MVP?\\n\\n## NBA MVP straw poll: Why this race isn't as close as you might think\\n\\nWill two-time MVP Nikola Jokic hold off late-season pushes from Luka Doncic\\nand Shai Gilgeous-Alexander? We have the latest snapshot of the race with less\\nthan two weeks left in the regular season.\\n\\n1dTim Bontemps\\n\\nIsaiah J. Downing-USA TODAY Sports\\n\\n##  Top Headlines\\n\\n  * Voters reject stadium tax for Royals and Chiefs\\n  * NCAA: Women's tourney may see changes in 2025\\n  * Athletics talk offer with Oakland; Sacramento next\\n  * FAU star Davis enters transfer portal, eyes draft\\n  * Enfield: Wouldn't be SMU's coach if not in ACC\\n  * Police question Spain's ex-soccer federation prez\\n  * Embiid returns, says injury 'took a toll mentally'\\n  * Harper authors 'great night,' hits 3 HRs as Phils win\\n  * Top NFL draft needs for all 32 teams\\n\\n## Favorites\\n\\n## Fantasy\\n\\nManage FavoritesFantasy Home\\n\\n## Customize ESPN\\n\\nSign UpLog In\\n\\n## ICYMI\\n\\n  * 0:18\\n\\n  * ## Jason Sudeikis does 'you can't see me' celebration to cheer on Iowa\\n\\nJason Sudeikis cheers on Iowa as he mimics Caitlin Clark's celebration from\\nthe crowd.\\n\\n## March Madness Live\\n\\n  * March Madness Live 2024\\n  * ## March Madness Live\\n\\nWatch every men's NCAA tournament game live!\\n\\n## Best of ESPN+\\n\\n  * Bart Young/NBAE via Getty Images\\n  * ## 2024 NBA playoffs: 20 players with most to gain or lose this postseason\\n\\nHere are the players with the most to gain -- and lose -- in this year's\\nplayoffs.\\n\\n  * ESPN\\n  * ## 2024 NFL mock drafts: Latest ESPN player and team predictions\\n\\nRead every one of our NFL mock drafts for the 2024 cycle right up until the\\nclock starts on Round 1.\\n\\n  * Maddie Malhotra/Boston Red Sox/Getty Images\\n  * ## MLB 2024: Top breakout candidate for all 30 teams\\n\\nFrom prospects to late bloomers to the next faces of the game, here are our\\npicks to click this season.\\n\\n  * Brian Rothmuller/Icon Sportswire\\n  * ## Men's coaching tracker: Latest buzz, candidates, analysis\\n\\nWith the USC vacancy now official, let's look at the job details and potential\\nfrontrunners. Plus, where the open mid-major jobs are looking for their next\\nhead coaches.\\n\\n## Trending Now\\n\\n  * Winslow Townson/USA TODAY Sports\\n  * ## LSU's repeat bid ends with Elite Eight loss to Iowa\\n\\nA season full of distractions at LSU means women's basketball will crown a new\\nchampion.\\n\\n  * Illustration by ESPN\\n  * ## The inside story on WWE's fan-driven WrestleMania pivot with The Rock\\n\\nThe Rock's return and the road to WrestleMania 40 has been fantastic, but it\\nwasn't the way it was originally planned.\\n\\n  * AP Photo/Rick Bowmer\\n  * ## How Utah Jazz GM Justin Zanik found himself fighting for not just his team, but his life\\n\\nWhile executing some of the biggest NBA trades for the Utah Jazz, GM Justin\\nZanik's energy and focus on his team kept him from one other important aspect\\nof his life: his health.\\n\\n## Sign up to play the #1 Fantasy Baseball Game\\n\\nReactivate A LeagueCreate A LeagueJoin a Public League\\n\\nPractice With a Mock Draft\\n\\n## Sign up to play the #1 Fantasy game!\\n\\nCreate A LeagueJoin Public LeagueReactivate A League\\n\\nMock Draft Now\\n\\n## ESPN+\\n\\n  * NHL\\n\\n  * MLB\\n\\n  * Field Yates' Two-Round NFL Mock Draft\\n\\n  * UFC 300: Pereira vs. Hill (Apr. 13, ESPN+ PPV)\\n\\n## Quick Links\\n\\n  * Men's Tournament Challenge\\n\\n  * Women's Tournament Challenge\\n\\n  * Men's TC 2nd Chance\\n\\n  * Women's TC 2nd Chance\\n\\n  * NFL Free Agency\\n\\n  * NFL Draft\\n\\n  * ESPN Radio: Listen Live\\n\\n  * How To Watch NHL Games\\n\\n  * Watch PGA Tour on ESPN\\n\\n## ESPN Sites\\n\\n  * ESPN Deportes\\n\\n  * Andscape\\n\\n  * espnW\\n\\n  * ESPNFC\\n\\n  * X Games\\n\\n  * SEC Network\\n\\n## ESPN Apps\\n\\n  * ESPN\\n\\n  * ESPN Fantasy\\n\\n  * Tournament Challenge\\n\\n## Follow ESPN\\n\\n  * Facebook\\n\\n  * X/Twitter\\n\\n  * Instagram\\n\\n  * Snapchat\\n\\n  * TikTok\\n\\n  * YouTube\\n\\n  * Terms of Use\\n  * Privacy Policy\\n  * Addendum to the Global Privacy Policy\\n  * Interest Based Ads\\n\\nCopyright: © ESPN Sports Media Ltd. All rights reserved.\\n\\n\", metadata={'source': 'https://www.espn.com', 'title': 'ESPN - Serving Sports Fans. Anytime. Anywhere.', 'description': 'Visit ESPN for live scores, highlights and sports news. Stream exclusive games on ESPN+ and play fantasy sports.', 'language': 'en'})]"
      ]
     },
     "execution_count": 39,
     "metadata": {},
     "output_type": "execute_result"
    }
   ],
   "source": [
    "urls = [\"https://www.espn.com\"]\n",
    "webpage = read_webpage(urls)\n",
    "print(\"Number of pages:\",len(webpage))\n",
    "webpage"
   ]
  },
  {
   "cell_type": "markdown",
   "metadata": {},
   "source": [
    "### Chunk the pdfs\n",
    "\n",
    "The LLM model can only handle a certain number of tokens at a time. So, we need to chunk the PDFs into smaller parts.\n",
    "This can be done by splitting the PDFs into smaller parts based on the number of tokens.\n",
    "Langchain provides a function to split the text into smaller parts based on the number of tokens.\n",
    "\n",
    "https://python.langchain.com/docs/modules/data_connection/document_transformers/recursive_text_splitter"
   ]
  },
  {
   "cell_type": "code",
   "execution_count": 47,
   "metadata": {},
   "outputs": [],
   "source": [
    "def chunk_documents(documents, chunk_size=1000, chunk_overlap=50):\n",
    "    splitter = RecursiveCharacterTextSplitter(chunk_size, chunk_overlap, is_separator_regex=False)\n",
    "    chunks = splitter.split_documents(documents)\n",
    "    return chunks"
   ]
  },
  {
   "cell_type": "code",
   "execution_count": 48,
   "metadata": {},
   "outputs": [
    {
     "ename": "TypeError",
     "evalue": "'int' object is not subscriptable",
     "output_type": "error",
     "traceback": [
      "\u001b[1;31m---------------------------------------------------------------------------\u001b[0m",
      "\u001b[1;31mTypeError\u001b[0m                                 Traceback (most recent call last)",
      "Cell \u001b[1;32mIn[48], line 1\u001b[0m\n\u001b[1;32m----> 1\u001b[0m chunked_pdfs \u001b[38;5;241m=\u001b[39m \u001b[43mchunk_documents\u001b[49m\u001b[43m(\u001b[49m\u001b[43mdocuments\u001b[49m\u001b[38;5;241;43m=\u001b[39;49m\u001b[43mpdfs\u001b[49m\u001b[43m)\u001b[49m\n\u001b[0;32m      2\u001b[0m chunk_documents\n",
      "Cell \u001b[1;32mIn[47], line 3\u001b[0m, in \u001b[0;36mchunk_documents\u001b[1;34m(documents, chunk_size, chunk_overlap)\u001b[0m\n\u001b[0;32m      1\u001b[0m \u001b[38;5;28;01mdef\u001b[39;00m \u001b[38;5;21mchunk_documents\u001b[39m(documents, chunk_size\u001b[38;5;241m=\u001b[39m\u001b[38;5;241m1000\u001b[39m, chunk_overlap\u001b[38;5;241m=\u001b[39m\u001b[38;5;241m50\u001b[39m):\n\u001b[0;32m      2\u001b[0m     splitter \u001b[38;5;241m=\u001b[39m RecursiveCharacterTextSplitter(chunk_size, chunk_overlap, is_separator_regex\u001b[38;5;241m=\u001b[39m\u001b[38;5;28;01mFalse\u001b[39;00m)\n\u001b[1;32m----> 3\u001b[0m     chunks \u001b[38;5;241m=\u001b[39m \u001b[43msplitter\u001b[49m\u001b[38;5;241;43m.\u001b[39;49m\u001b[43msplit_documents\u001b[49m\u001b[43m(\u001b[49m\u001b[43mdocuments\u001b[49m\u001b[43m)\u001b[49m\n\u001b[0;32m      4\u001b[0m     \u001b[38;5;28;01mreturn\u001b[39;00m chunks\n",
      "File \u001b[1;32mc:\\Users\\3rdLABSYSTEM01\\Documents\\Chatbot\\.venv\\Lib\\site-packages\\langchain_text_splitters\\base.py:95\u001b[0m, in \u001b[0;36mTextSplitter.split_documents\u001b[1;34m(self, documents)\u001b[0m\n\u001b[0;32m     93\u001b[0m     texts\u001b[38;5;241m.\u001b[39mappend(doc\u001b[38;5;241m.\u001b[39mpage_content)\n\u001b[0;32m     94\u001b[0m     metadatas\u001b[38;5;241m.\u001b[39mappend(doc\u001b[38;5;241m.\u001b[39mmetadata)\n\u001b[1;32m---> 95\u001b[0m \u001b[38;5;28;01mreturn\u001b[39;00m \u001b[38;5;28;43mself\u001b[39;49m\u001b[38;5;241;43m.\u001b[39;49m\u001b[43mcreate_documents\u001b[49m\u001b[43m(\u001b[49m\u001b[43mtexts\u001b[49m\u001b[43m,\u001b[49m\u001b[43m \u001b[49m\u001b[43mmetadatas\u001b[49m\u001b[38;5;241;43m=\u001b[39;49m\u001b[43mmetadatas\u001b[49m\u001b[43m)\u001b[49m\n",
      "File \u001b[1;32mc:\\Users\\3rdLABSYSTEM01\\Documents\\Chatbot\\.venv\\Lib\\site-packages\\langchain_text_splitters\\base.py:78\u001b[0m, in \u001b[0;36mTextSplitter.create_documents\u001b[1;34m(self, texts, metadatas)\u001b[0m\n\u001b[0;32m     76\u001b[0m index \u001b[38;5;241m=\u001b[39m \u001b[38;5;241m0\u001b[39m\n\u001b[0;32m     77\u001b[0m previous_chunk_len \u001b[38;5;241m=\u001b[39m \u001b[38;5;241m0\u001b[39m\n\u001b[1;32m---> 78\u001b[0m \u001b[38;5;28;01mfor\u001b[39;00m chunk \u001b[38;5;129;01min\u001b[39;00m \u001b[38;5;28;43mself\u001b[39;49m\u001b[38;5;241;43m.\u001b[39;49m\u001b[43msplit_text\u001b[49m\u001b[43m(\u001b[49m\u001b[43mtext\u001b[49m\u001b[43m)\u001b[49m:\n\u001b[0;32m     79\u001b[0m     metadata \u001b[38;5;241m=\u001b[39m copy\u001b[38;5;241m.\u001b[39mdeepcopy(_metadatas[i])\n\u001b[0;32m     80\u001b[0m     \u001b[38;5;28;01mif\u001b[39;00m \u001b[38;5;28mself\u001b[39m\u001b[38;5;241m.\u001b[39m_add_start_index:\n",
      "File \u001b[1;32mc:\\Users\\3rdLABSYSTEM01\\Documents\\Chatbot\\.venv\\Lib\\site-packages\\langchain_text_splitters\\character.py:110\u001b[0m, in \u001b[0;36mRecursiveCharacterTextSplitter.split_text\u001b[1;34m(self, text)\u001b[0m\n\u001b[0;32m    109\u001b[0m \u001b[38;5;28;01mdef\u001b[39;00m \u001b[38;5;21msplit_text\u001b[39m(\u001b[38;5;28mself\u001b[39m, text: \u001b[38;5;28mstr\u001b[39m) \u001b[38;5;241m-\u001b[39m\u001b[38;5;241m>\u001b[39m List[\u001b[38;5;28mstr\u001b[39m]:\n\u001b[1;32m--> 110\u001b[0m     \u001b[38;5;28;01mreturn\u001b[39;00m \u001b[38;5;28;43mself\u001b[39;49m\u001b[38;5;241;43m.\u001b[39;49m\u001b[43m_split_text\u001b[49m\u001b[43m(\u001b[49m\u001b[43mtext\u001b[49m\u001b[43m,\u001b[49m\u001b[43m \u001b[49m\u001b[38;5;28;43mself\u001b[39;49m\u001b[38;5;241;43m.\u001b[39;49m\u001b[43m_separators\u001b[49m\u001b[43m)\u001b[49m\n",
      "File \u001b[1;32mc:\\Users\\3rdLABSYSTEM01\\Documents\\Chatbot\\.venv\\Lib\\site-packages\\langchain_text_splitters\\character.py:73\u001b[0m, in \u001b[0;36mRecursiveCharacterTextSplitter._split_text\u001b[1;34m(self, text, separators)\u001b[0m\n\u001b[0;32m     71\u001b[0m final_chunks \u001b[38;5;241m=\u001b[39m []\n\u001b[0;32m     72\u001b[0m \u001b[38;5;66;03m# Get appropriate separator to use\u001b[39;00m\n\u001b[1;32m---> 73\u001b[0m separator \u001b[38;5;241m=\u001b[39m \u001b[43mseparators\u001b[49m\u001b[43m[\u001b[49m\u001b[38;5;241;43m-\u001b[39;49m\u001b[38;5;241;43m1\u001b[39;49m\u001b[43m]\u001b[49m\n\u001b[0;32m     74\u001b[0m new_separators \u001b[38;5;241m=\u001b[39m []\n\u001b[0;32m     75\u001b[0m \u001b[38;5;28;01mfor\u001b[39;00m i, _s \u001b[38;5;129;01min\u001b[39;00m \u001b[38;5;28menumerate\u001b[39m(separators):\n",
      "\u001b[1;31mTypeError\u001b[0m: 'int' object is not subscriptable"
     ]
    }
   ],
   "source": [
    "chunked_pdfs = chunk_documents(documents=pdfs)\n",
    "chunk_documents"
   ]
  },
  {
   "cell_type": "code",
   "execution_count": null,
   "metadata": {},
   "outputs": [],
   "source": [
    "embeddings = OpenAIEmbeddings(api_key=os.environ['OPENAI_API_KEY'])\n",
    "pdf_vectors = embeddings.embed_documents(pdfs)"
   ]
  }
 ],
 "metadata": {
  "kernelspec": {
   "display_name": ".venv",
   "language": "python",
   "name": "python3"
  },
  "language_info": {
   "codemirror_mode": {
    "name": "ipython",
    "version": 3
   },
   "file_extension": ".py",
   "mimetype": "text/x-python",
   "name": "python",
   "nbconvert_exporter": "python",
   "pygments_lexer": "ipython3",
   "version": "3.11.4"
  }
 },
 "nbformat": 4,
 "nbformat_minor": 2
}
